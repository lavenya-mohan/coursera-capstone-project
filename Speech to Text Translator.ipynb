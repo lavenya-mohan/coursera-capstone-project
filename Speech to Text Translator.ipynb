{
    "cells": [
        {
            "cell_type": "markdown",
            "metadata": {},
            "source": "# Watson Speech to Text Translator"
        },
        {
            "cell_type": "code",
            "execution_count": 3,
            "metadata": {},
            "outputs": [
                {
                    "name": "stdout",
                    "output_type": "stream",
                    "text": "/opt/conda/envs/Python-3.7-main/lib/python3.7/site-packages/secretstorage/dhcrypto.py:16: CryptographyDeprecationWarning: int_from_bytes is deprecated, use int.from_bytes instead\n  from cryptography.utils import int_from_bytes\n/opt/conda/envs/Python-3.7-main/lib/python3.7/site-packages/secretstorage/util.py:25: CryptographyDeprecationWarning: int_from_bytes is deprecated, use int.from_bytes instead\n  from cryptography.utils import int_from_bytes\nRequirement already up-to-date: ibm-watson>=5.1.0 in /opt/conda/envs/Python-3.7-main/lib/python3.7/site-packages (5.1.0)\nRequirement already satisfied, skipping upgrade: python-dateutil>=2.5.3 in /opt/conda/envs/Python-3.7-main/lib/python3.7/site-packages (from ibm-watson>=5.1.0) (2.8.1)\nRequirement already satisfied, skipping upgrade: websocket-client==0.48.0 in /opt/conda/envs/Python-3.7-main/lib/python3.7/site-packages (from ibm-watson>=5.1.0) (0.48.0)\nRequirement already satisfied, skipping upgrade: requests<3.0,>=2.0 in /opt/conda/envs/Python-3.7-main/lib/python3.7/site-packages (from ibm-watson>=5.1.0) (2.24.0)\nRequirement already satisfied, skipping upgrade: ibm-cloud-sdk-core>=3.3.6 in /opt/conda/envs/Python-3.7-main/lib/python3.7/site-packages (from ibm-watson>=5.1.0) (3.9.0)\nRequirement already satisfied, skipping upgrade: six>=1.5 in /opt/conda/envs/Python-3.7-main/lib/python3.7/site-packages (from python-dateutil>=2.5.3->ibm-watson>=5.1.0) (1.15.0)\nRequirement already satisfied, skipping upgrade: idna<3,>=2.5 in /opt/conda/envs/Python-3.7-main/lib/python3.7/site-packages (from requests<3.0,>=2.0->ibm-watson>=5.1.0) (2.9)\nRequirement already satisfied, skipping upgrade: chardet<4,>=3.0.2 in /opt/conda/envs/Python-3.7-main/lib/python3.7/site-packages (from requests<3.0,>=2.0->ibm-watson>=5.1.0) (3.0.4)\nRequirement already satisfied, skipping upgrade: urllib3!=1.25.0,!=1.25.1,<1.26,>=1.21.1 in /opt/conda/envs/Python-3.7-main/lib/python3.7/site-packages (from requests<3.0,>=2.0->ibm-watson>=5.1.0) (1.25.9)\nRequirement already satisfied, skipping upgrade: certifi>=2017.4.17 in /opt/conda/envs/Python-3.7-main/lib/python3.7/site-packages (from requests<3.0,>=2.0->ibm-watson>=5.1.0) (2020.12.5)\nRequirement already satisfied, skipping upgrade: PyJWT<3.0.0,>=2.0.1 in /opt/conda/envs/Python-3.7-main/lib/python3.7/site-packages (from ibm-cloud-sdk-core>=3.3.6->ibm-watson>=5.1.0) (2.0.1)\nNote: you may need to restart the kernel to use updated packages.\n"
                }
            ],
            "source": "pip install --upgrade \"ibm-watson>=5.1.0\""
        },
        {
            "cell_type": "code",
            "execution_count": 5,
            "metadata": {},
            "outputs": [],
            "source": "from ibm_watson import SpeechToTextV1 \nimport json\nfrom ibm_cloud_sdk_core.authenticators import IAMAuthenticator"
        },
        {
            "cell_type": "code",
            "execution_count": 7,
            "metadata": {},
            "outputs": [],
            "source": "url_s2t =\"https://api.us-south.speech-to-text.watson.cloud.ibm.com/instances/d7eb45a3-ec57-40ab-8adb-19a8e1622206\""
        },
        {
            "cell_type": "code",
            "execution_count": 9,
            "metadata": {},
            "outputs": [],
            "source": "iam_apikey_s2t = \"vZQLbfcz6JLXMwg4BoF23lEvOseDKe48TEiUv1eBilts\""
        },
        {
            "cell_type": "markdown",
            "metadata": {},
            "source": "#You create a Speech To Text Adapter object the parameters are the endpoint and API key."
        },
        {
            "cell_type": "code",
            "execution_count": 10,
            "metadata": {},
            "outputs": [
                {
                    "data": {
                        "text/plain": "<ibm_watson.speech_to_text_v1_adapter.SpeechToTextV1Adapter at 0x7f14e0b55450>"
                    },
                    "execution_count": 10,
                    "metadata": {},
                    "output_type": "execute_result"
                }
            ],
            "source": "authenticator = IAMAuthenticator(iam_apikey_s2t)\ns2t = SpeechToTextV1(authenticator=authenticator)\ns2t.set_service_url(url_s2t)\ns2t"
        },
        {
            "cell_type": "code",
            "execution_count": 11,
            "metadata": {},
            "outputs": [
                {
                    "name": "stdout",
                    "output_type": "stream",
                    "text": "--2021-04-18 07:04:00--  https://cf-courses-data.s3.us.cloud-object-storage.appdomain.cloud/IBMDeveloperSkillsNetwork-PY0101EN-SkillsNetwork/labs/Module%205/data/PolynomialRegressionandPipelines.mp3\nResolving cf-courses-data.s3.us.cloud-object-storage.appdomain.cloud (cf-courses-data.s3.us.cloud-object-storage.appdomain.cloud)... 198.23.119.245\nConnecting to cf-courses-data.s3.us.cloud-object-storage.appdomain.cloud (cf-courses-data.s3.us.cloud-object-storage.appdomain.cloud)|198.23.119.245|:443... connected.\nHTTP request sent, awaiting response... 200 OK\nLength: 4234179 (4.0M) [audio/mpeg]\nSaving to: \u2018PolynomialRegressionandPipelines.mp3\u2019\n\nPolynomialRegressio 100%[===================>]   4.04M  --.-KB/s    in 0.05s   \n\n2021-04-18 07:04:01 (87.1 MB/s) - \u2018PolynomialRegressionandPipelines.mp3\u2019 saved [4234179/4234179]\n\n"
                }
            ],
            "source": "!wget -O PolynomialRegressionandPipelines.mp3  https://cf-courses-data.s3.us.cloud-object-storage.appdomain.cloud/IBMDeveloperSkillsNetwork-PY0101EN-SkillsNetwork/labs/Module%205/data/PolynomialRegressionandPipelines.mp3\n\n"
        },
        {
            "cell_type": "code",
            "execution_count": 17,
            "metadata": {},
            "outputs": [],
            "source": "filename='PolynomialRegressionandPipelines.mp3'"
        },
        {
            "cell_type": "code",
            "execution_count": 18,
            "metadata": {},
            "outputs": [],
            "source": "with open(filename, mode=\"rb\")  as wav:\n    response = s2t.recognize(audio=wav, content_type='audio/mp3')"
        },
        {
            "cell_type": "code",
            "execution_count": 19,
            "metadata": {},
            "outputs": [
                {
                    "data": {
                        "text/plain": "{'result_index': 0,\n 'results': [{'final': True,\n   'alternatives': [{'transcript': 'in this video we will cover polynomial regression and pipelines ',\n     'confidence': 0.94}]},\n  {'final': True,\n   'alternatives': [{'transcript': \"what do we do when a linear model is not the best fit for our data let's look into another type of regression model the polynomial regression we transform our data into a polynomial then use linear regression to fit the parameters that we will discuss pipelines pipelines are way to simplify your code \",\n     'confidence': 0.9}]},\n  {'final': True,\n   'alternatives': [{'transcript': \"polynomial regression is a special case of the general linear regression this method is beneficial for describing curvilinear relationships what is a curvilinear relationship it's what you get by squaring or setting higher order terms of the predictor variables in the model transforming the data the model can be quadratic which means the predictor variable in the model is squared we use a bracket to indicated as an exponent this is the second order polynomial regression with a figure representing the function \",\n     'confidence': 0.95}]},\n  {'final': True,\n   'alternatives': [{'transcript': 'the model can be cubic which means the predictor variable is cute this is the third order polynomial regression we see by examining the figure that the function has more variation ',\n     'confidence': 0.95}]},\n  {'final': True,\n   'alternatives': [{'transcript': \"there also exists higher order polynomial regressions when a good fit hasn't been achieved by second or third order we can see in figures how much the graphs change when we change the order of the polynomial regression the degree of the regression makes a big difference and can result in a better fit if you pick the right value in all cases the relationship between the variable in the parameter is always linear \",\n     'confidence': 0.91}]},\n  {'final': True,\n   'alternatives': [{'transcript': \"let's look at an example from our data we generate a polynomial regression model \",\n     'confidence': 0.89}]},\n  {'final': True,\n   'alternatives': [{'transcript': 'in python we do this by using the poly fit function in this example we develop a third order polynomial regression model base we can print out the model symbolic form for the model is given by the following expression ',\n     'confidence': 0.92}]},\n  {'final': True,\n   'alternatives': [{'transcript': \"negative one point five five seven X. one cute plus two hundred four point eight X. one squared plus eight thousand nine hundred sixty five X. one plus one point three seven times ten to the power of five we can also have multi dimensional polynomial linear regression the expression can get complicated here are just some of the terms for two dimensional second order polynomial none pies poly fit function cannot perform this type of regression we use the preprocessing librarian scikit learn to create a polynomial feature object the constructor takes the degree of the polynomial as a parameter then we transform the features into a polynomial feature with the fit underscore transform method let's do a more intuitive example \",\n     'confidence': 0.9}]},\n  {'final': True,\n   'alternatives': [{'transcript': 'consider the feature shown here applying the method we transform the data we now have a new set of features that are transformed version of our original features as that I mention of the data gets larger we may want to normalize multiple features as scikit learn instead we can use the preprocessing module to simplify many tasks for example we can standardize each feature simultaneously we import standard scaler we train the object fit the scale object then transform the data into a new data frame on a rate X. underscore scale there are more normalization methods available in the pre processing library as well as other transformations we can simplify our code by using a pipeline library there are many steps to getting a prediction for example normalization polynomial transform and linear regression we simplify the process using a pipeline ',\n     'confidence': 0.9}]},\n  {'final': True,\n   'alternatives': [{'transcript': 'pipeline sequentially perform a series of transformations the last step carries out a prediction first we import all the modules we need then we import the library pipeline we create a list of topples the first element in the topple contains the name of the estimator model the second element contains model constructor we input the list in the pipeline constructor we now have a pipeline object we can train the pipeline by applying the train method to the pipeline object we can also produce a prediction as well ',\n     'confidence': 0.89}]},\n  {'final': True,\n   'alternatives': [{'transcript': 'the method normalizes the data performs a polynomial transform then outputs a prediction ',\n     'confidence': 0.89}]}]}"
                    },
                    "execution_count": 19,
                    "metadata": {},
                    "output_type": "execute_result"
                }
            ],
            "source": "response.result"
        },
        {
            "cell_type": "code",
            "execution_count": 20,
            "metadata": {},
            "outputs": [
                {
                    "data": {
                        "text/html": "<div>\n<style scoped>\n    .dataframe tbody tr th:only-of-type {\n        vertical-align: middle;\n    }\n\n    .dataframe tbody tr th {\n        vertical-align: top;\n    }\n\n    .dataframe thead th {\n        text-align: right;\n    }\n</style>\n<table border=\"1\" class=\"dataframe\">\n  <thead>\n    <tr style=\"text-align: right;\">\n      <th></th>\n      <th>transcript</th>\n      <th>confidence</th>\n    </tr>\n  </thead>\n  <tbody>\n    <tr>\n      <th>0</th>\n      <td>in this video we will cover polynomial regress...</td>\n      <td>0.94</td>\n    </tr>\n    <tr>\n      <th>1</th>\n      <td>what do we do when a linear model is not the b...</td>\n      <td>0.90</td>\n    </tr>\n    <tr>\n      <th>2</th>\n      <td>polynomial regression is a special case of the...</td>\n      <td>0.95</td>\n    </tr>\n    <tr>\n      <th>3</th>\n      <td>the model can be cubic which means the predict...</td>\n      <td>0.95</td>\n    </tr>\n    <tr>\n      <th>4</th>\n      <td>there also exists higher order polynomial regr...</td>\n      <td>0.91</td>\n    </tr>\n    <tr>\n      <th>5</th>\n      <td>let's look at an example from our data we gene...</td>\n      <td>0.89</td>\n    </tr>\n    <tr>\n      <th>6</th>\n      <td>in python we do this by using the poly fit fun...</td>\n      <td>0.92</td>\n    </tr>\n    <tr>\n      <th>7</th>\n      <td>negative one point five five seven X. one cute...</td>\n      <td>0.90</td>\n    </tr>\n    <tr>\n      <th>8</th>\n      <td>consider the feature shown here applying the m...</td>\n      <td>0.90</td>\n    </tr>\n    <tr>\n      <th>9</th>\n      <td>pipeline sequentially perform a series of tran...</td>\n      <td>0.89</td>\n    </tr>\n    <tr>\n      <th>10</th>\n      <td>the method normalizes the data performs a poly...</td>\n      <td>0.89</td>\n    </tr>\n  </tbody>\n</table>\n</div>",
                        "text/plain": "                                           transcript  confidence\n0   in this video we will cover polynomial regress...        0.94\n1   what do we do when a linear model is not the b...        0.90\n2   polynomial regression is a special case of the...        0.95\n3   the model can be cubic which means the predict...        0.95\n4   there also exists higher order polynomial regr...        0.91\n5   let's look at an example from our data we gene...        0.89\n6   in python we do this by using the poly fit fun...        0.92\n7   negative one point five five seven X. one cute...        0.90\n8   consider the feature shown here applying the m...        0.90\n9   pipeline sequentially perform a series of tran...        0.89\n10  the method normalizes the data performs a poly...        0.89"
                    },
                    "execution_count": 20,
                    "metadata": {},
                    "output_type": "execute_result"
                }
            ],
            "source": "from pandas import json_normalize\n\njson_normalize(response.result['results'],\"alternatives\")"
        },
        {
            "cell_type": "code",
            "execution_count": 21,
            "metadata": {},
            "outputs": [
                {
                    "data": {
                        "text/plain": "<ibm_cloud_sdk_core.detailed_response.DetailedResponse at 0x7f14e05cc390>"
                    },
                    "execution_count": 21,
                    "metadata": {},
                    "output_type": "execute_result"
                }
            ],
            "source": "response"
        },
        {
            "cell_type": "markdown",
            "metadata": {},
            "source": "#We can obtain the recognized text and assign it to the variable recognized_text:"
        },
        {
            "cell_type": "code",
            "execution_count": 22,
            "metadata": {},
            "outputs": [
                {
                    "data": {
                        "text/plain": "str"
                    },
                    "execution_count": 22,
                    "metadata": {},
                    "output_type": "execute_result"
                }
            ],
            "source": "recognized_text=response.result['results'][0][\"alternatives\"][0][\"transcript\"]\ntype(recognized_text)"
        },
        {
            "cell_type": "markdown",
            "metadata": {},
            "source": "Language Translator"
        },
        {
            "cell_type": "code",
            "execution_count": 23,
            "metadata": {},
            "outputs": [],
            "source": "from ibm_watson import LanguageTranslatorV3"
        },
        {
            "cell_type": "code",
            "execution_count": 24,
            "metadata": {},
            "outputs": [],
            "source": "url_lt='https://api.us-south.language-translator.watson.cloud.ibm.com/instances/0ec9ac36-3c8b-40aa-a23b-732dcfb17f3a'"
        },
        {
            "cell_type": "code",
            "execution_count": 27,
            "metadata": {},
            "outputs": [],
            "source": "apikey_lt='yj6EJU_6Q9eKdWrmVs1RkU38eJMqx5b1S-iUpqo16K04'"
        },
        {
            "cell_type": "code",
            "execution_count": 28,
            "metadata": {},
            "outputs": [],
            "source": "version_lt='2018-05-01'"
        },
        {
            "cell_type": "markdown",
            "metadata": {},
            "source": "#we create a Language Translator object language_translator:"
        },
        {
            "cell_type": "code",
            "execution_count": 29,
            "metadata": {},
            "outputs": [
                {
                    "data": {
                        "text/plain": "<ibm_watson.language_translator_v3.LanguageTranslatorV3 at 0x7f14d04a5110>"
                    },
                    "execution_count": 29,
                    "metadata": {},
                    "output_type": "execute_result"
                }
            ],
            "source": "authenticator = IAMAuthenticator(apikey_lt)\nlanguage_translator = LanguageTranslatorV3(version=version_lt,authenticator=authenticator)\nlanguage_translator.set_service_url(url_lt)\nlanguage_translator"
        },
        {
            "cell_type": "markdown",
            "metadata": {},
            "source": "#We can get a Lists the languages that the service can identify. The method Returns the language code. For example English (en) to Spanis (es) and name of each language."
        },
        {
            "cell_type": "code",
            "execution_count": 30,
            "metadata": {},
            "outputs": [
                {
                    "data": {
                        "text/html": "<div>\n<style scoped>\n    .dataframe tbody tr th:only-of-type {\n        vertical-align: middle;\n    }\n\n    .dataframe tbody tr th {\n        vertical-align: top;\n    }\n\n    .dataframe thead th {\n        text-align: right;\n    }\n</style>\n<table border=\"1\" class=\"dataframe\">\n  <thead>\n    <tr style=\"text-align: right;\">\n      <th></th>\n      <th>language</th>\n      <th>name</th>\n    </tr>\n  </thead>\n  <tbody>\n    <tr>\n      <th>0</th>\n      <td>af</td>\n      <td>Afrikaans</td>\n    </tr>\n    <tr>\n      <th>1</th>\n      <td>ar</td>\n      <td>Arabic</td>\n    </tr>\n    <tr>\n      <th>2</th>\n      <td>az</td>\n      <td>Azerbaijani</td>\n    </tr>\n    <tr>\n      <th>3</th>\n      <td>ba</td>\n      <td>Bashkir</td>\n    </tr>\n    <tr>\n      <th>4</th>\n      <td>be</td>\n      <td>Belarusian</td>\n    </tr>\n    <tr>\n      <th>...</th>\n      <td>...</td>\n      <td>...</td>\n    </tr>\n    <tr>\n      <th>71</th>\n      <td>uk</td>\n      <td>Ukrainian</td>\n    </tr>\n    <tr>\n      <th>72</th>\n      <td>ur</td>\n      <td>Urdu</td>\n    </tr>\n    <tr>\n      <th>73</th>\n      <td>vi</td>\n      <td>Vietnamese</td>\n    </tr>\n    <tr>\n      <th>74</th>\n      <td>zh</td>\n      <td>Simplified Chinese</td>\n    </tr>\n    <tr>\n      <th>75</th>\n      <td>zh-TW</td>\n      <td>Traditional Chinese</td>\n    </tr>\n  </tbody>\n</table>\n<p>76 rows \u00d7 2 columns</p>\n</div>",
                        "text/plain": "   language                 name\n0        af            Afrikaans\n1        ar               Arabic\n2        az          Azerbaijani\n3        ba              Bashkir\n4        be           Belarusian\n..      ...                  ...\n71       uk            Ukrainian\n72       ur                 Urdu\n73       vi           Vietnamese\n74       zh   Simplified Chinese\n75    zh-TW  Traditional Chinese\n\n[76 rows x 2 columns]"
                    },
                    "execution_count": 30,
                    "metadata": {},
                    "output_type": "execute_result"
                }
            ],
            "source": "from pandas import json_normalize\n\njson_normalize(language_translator.list_identifiable_languages().get_result(), \"languages\")"
        },
        {
            "cell_type": "code",
            "execution_count": 31,
            "metadata": {},
            "outputs": [
                {
                    "data": {
                        "text/plain": "<ibm_cloud_sdk_core.detailed_response.DetailedResponse at 0x7f14d04b1510>"
                    },
                    "execution_count": 31,
                    "metadata": {},
                    "output_type": "execute_result"
                }
            ],
            "source": "translation_response = language_translator.translate(\\\n    text=recognized_text, model_id='en-es')\ntranslation_response"
        },
        {
            "cell_type": "code",
            "execution_count": 32,
            "metadata": {},
            "outputs": [
                {
                    "data": {
                        "text/plain": "{'translations': [{'translation': 'en este v\u00eddeo cubriremos la regresi\u00f3n polin\u00f3mica y las tuber\u00edas '}],\n 'word_count': 10,\n 'character_count': 64}"
                    },
                    "execution_count": 32,
                    "metadata": {},
                    "output_type": "execute_result"
                }
            ],
            "source": "translation=translation_response.get_result()\ntranslation"
        },
        {
            "cell_type": "markdown",
            "metadata": {},
            "source": "We can obtain the actual translation as a string as follows:"
        },
        {
            "cell_type": "code",
            "execution_count": 33,
            "metadata": {},
            "outputs": [
                {
                    "data": {
                        "text/plain": "'en este v\u00eddeo cubriremos la regresi\u00f3n polin\u00f3mica y las tuber\u00edas '"
                    },
                    "execution_count": 33,
                    "metadata": {},
                    "output_type": "execute_result"
                }
            ],
            "source": "spanish_translation =translation['translations'][0]['translation']\nspanish_translation "
        },
        {
            "cell_type": "markdown",
            "metadata": {},
            "source": "We can translate back to English"
        },
        {
            "cell_type": "code",
            "execution_count": 35,
            "metadata": {},
            "outputs": [],
            "source": "translation_new = language_translator.translate(text=spanish_translation ,model_id='es-en').get_result()"
        },
        {
            "cell_type": "markdown",
            "metadata": {},
            "source": "We can obtain the actual translation as a string as follows:"
        },
        {
            "cell_type": "code",
            "execution_count": 36,
            "metadata": {},
            "outputs": [
                {
                    "data": {
                        "text/plain": "'in this video we will cover the polynomial regression and the pipes '"
                    },
                    "execution_count": 36,
                    "metadata": {},
                    "output_type": "execute_result"
                }
            ],
            "source": "translation_eng=translation_new['translations'][0]['translation']\ntranslation_eng"
        },
        {
            "cell_type": "markdown",
            "metadata": {},
            "source": "Translate to French."
        },
        {
            "cell_type": "code",
            "execution_count": 37,
            "metadata": {
                "scrolled": true
            },
            "outputs": [
                {
                    "data": {
                        "text/plain": "'Dans cette vid\u00e9o nous couvrons la r\u00e9gression polynomiale et les tuyaux '"
                    },
                    "execution_count": 37,
                    "metadata": {},
                    "output_type": "execute_result"
                }
            ],
            "source": "French_translation=language_translator.translate(\n    text=translation_eng , model_id='en-fr').get_result()\n \nFrench_translation['translations'][0]['translation']"
        },
        {
            "cell_type": "markdown",
            "metadata": {},
            "source": "Again Translate to English"
        },
        {
            "cell_type": "code",
            "execution_count": 38,
            "metadata": {},
            "outputs": [
                {
                    "data": {
                        "text/plain": "'in this video we will cover the polynomial regression and the pipes '"
                    },
                    "execution_count": 38,
                    "metadata": {},
                    "output_type": "execute_result"
                }
            ],
            "source": "translation_eng=translation_new['translations'][0]['translation']\ntranslation_eng"
        }
    ],
    "metadata": {
        "kernelspec": {
            "display_name": "Python 3.7",
            "language": "python",
            "name": "python3"
        },
        "language_info": {
            "codemirror_mode": {
                "name": "ipython",
                "version": 3
            },
            "file_extension": ".py",
            "mimetype": "text/x-python",
            "name": "python",
            "nbconvert_exporter": "python",
            "pygments_lexer": "ipython3",
            "version": "3.7.10"
        }
    },
    "nbformat": 4,
    "nbformat_minor": 1
}